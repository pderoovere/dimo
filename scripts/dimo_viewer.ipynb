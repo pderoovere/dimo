{
 "cells": [
  {
   "cell_type": "code",
   "execution_count": null,
   "metadata": {},
   "outputs": [],
   "source": [
    "%load_ext autoreload\n",
    "%autoreload 2"
   ]
  },
  {
   "cell_type": "code",
   "execution_count": null,
   "metadata": {},
   "outputs": [],
   "source": [
    "import os\n",
    "os.environ['PYOPENGL_PLATFORM'] = 'egl'"
   ]
  },
  {
   "cell_type": "code",
   "execution_count": null,
   "metadata": {},
   "outputs": [],
   "source": [
    "from pathlib import Path\n",
    "from PIL import Image\n",
    "import numpy as np\n",
    "import trimesh\n",
    "import pyrender\n",
    "from ipywidgets import interact\n",
    "from scipy.spatial.transform import Rotation"
   ]
  },
  {
   "cell_type": "code",
   "execution_count": null,
   "metadata": {},
   "outputs": [],
   "source": [
    "from dimo_loader import DimoLoader"
   ]
  },
  {
   "cell_type": "markdown",
   "metadata": {},
   "source": [
    "# DIMO viewer"
   ]
  },
  {
   "cell_type": "code",
   "execution_count": null,
   "metadata": {},
   "outputs": [],
   "source": [
    "ds_path = Path('/home/peter/Projects/Baekeland/keylines/data/raw/keylines/dimo_blocks_small/dimo_small')"
   ]
  },
  {
   "cell_type": "code",
   "execution_count": null,
   "metadata": {},
   "outputs": [],
   "source": [
    "dimo_loader = DimoLoader()\n",
    "dimo_ds = dimo_loader.load(ds_path, cameras=['real_jaigo', 'real_d415', 'real_l515', 'real_mvbluefox', 'sim_jaigo'])"
   ]
  },
  {
   "cell_type": "markdown",
   "metadata": {},
   "source": [
    "## Rendering setup"
   ]
  },
  {
   "cell_type": "code",
   "execution_count": null,
   "metadata": {},
   "outputs": [],
   "source": [
    "def t_from_xyz(x=0., y=0., z=0.):\n",
    "    t = np.eye(4, 4)\n",
    "    t[:3, 3] = [x, y, z]\n",
    "    return t\n",
    "\n",
    "# OpenCV (dimo) -> OpenGL (pyrender) conversion\n",
    "def transform_viewpoint(viewpoint):\n",
    "    rotate_x_180 = np.eye(4, 4)\n",
    "    rotate_x_180[:3, :3] = Rotation.from_euler('x', [180.], degrees=True).as_matrix()\n",
    "    return viewpoint @ rotate_x_180\n",
    "\n",
    "def setup_renderer(im_size):\n",
    "    im_w = im_size[0]\n",
    "    im_h = im_size[1]\n",
    "    p_renderer = pyrender.OffscreenRenderer(im_w, im_h)\n",
    "    p_scene = pyrender.Scene(bg_color=[0., 0., 0., 0.])\n",
    "    return p_renderer, p_scene\n",
    "\n",
    "def update_camera(camera, fx, fy, cx, cy):\n",
    "    camera.fx = fx\n",
    "    camera.fy = fy\n",
    "    camera.cx = cx\n",
    "    camera.cy = cy\n",
    "\n",
    "def add_lights(p_scene):\n",
    "    p_scene.ambient_light = [0.5, 0.5, 0.5]\n",
    "    light = pyrender.DirectionalLight(color=[1., 1., 1.], intensity=5.)\n",
    "    light = p_scene.add(light, pose=transform_viewpoint(t_from_xyz(z=500.)))\n",
    "\n",
    "def prepare_image(image, models, p_scene):\n",
    "    p_scene.clear()\n",
    "    add_lights(p_scene)\n",
    "    K = image['camera']['K']\n",
    "    fx, fy, cx, cy = K[0, 0], K[1, 1], K[0, 2], K[1, 2]\n",
    "    p_camera = p_scene.add(pyrender.IntrinsicsCamera(fx, fy, cx, cy, 0.05, 1000))\n",
    "    p_scene.set_pose(p_camera, transform_viewpoint(t_from_xyz()))\n",
    "    for obj in image['objects']:\n",
    "        mesh = models[obj['id']].copy()\n",
    "        mesh.visual.vertex_colors = trimesh.visual.color.random_color()\n",
    "        o = p_scene.add(pyrender.Mesh.from_trimesh(mesh))\n",
    "        obj_pose = obj['model_2cam']\n",
    "        o.translation =  obj_pose[:3, 3].copy()\n",
    "        o.rotation = Rotation.from_matrix(obj_pose[:3, :3]).as_quat()\n",
    "        \n",
    "def load_image(path):\n",
    "    image = Image.open(path)\n",
    "    image = image.convert('RGBA')\n",
    "    return image"
   ]
  },
  {
   "cell_type": "code",
   "execution_count": null,
   "metadata": {},
   "outputs": [],
   "source": [
    "def load_models(models):\n",
    "    return {model['id']: trimesh.load(model['cad']) for model in models}"
   ]
  },
  {
   "cell_type": "code",
   "execution_count": null,
   "metadata": {},
   "outputs": [],
   "source": [
    "cameras = [c for c in dimo_ds.keys() if c != 'models']\n",
    "models = load_models(dimo_ds['models'])\n",
    "\n",
    "try:\n",
    "    p_renderer.delete()\n",
    "except:\n",
    "    pass\n",
    "\n",
    "def show_camera(camera):\n",
    "    scenes = dimo_ds[camera]\n",
    "    first_img = load_image(scenes[0]['images'][0]['path'])\n",
    "    \n",
    "    p_renderer, p_scene = setup_renderer(first_img.size)\n",
    "    \n",
    "    def show_scene(i):\n",
    "        scene = scenes[i]\n",
    "        \n",
    "        def show_image(j):\n",
    "            prepare_image(scene['images'][j], models, p_scene)\n",
    "            img = load_image(scene['images'][j]['path'])\n",
    "            print(scene['images'][j]['scene_info'])\n",
    "            rgba, _ = p_renderer.render(p_scene, flags=pyrender.RenderFlags.RGBA) \n",
    "            overlay = Image.fromarray(rgba)\n",
    "            composite = Image.alpha_composite(img, overlay)\n",
    "            blended = Image.blend(img, composite, alpha=0.4)\n",
    "            blended.thumbnail((600, 600))\n",
    "            display(blended)\n",
    "            \n",
    "        interact(show_image, j=range(len(scene['images'])))\n",
    "    \n",
    "    interact(show_scene, i=range(len(scenes)))\n",
    "\n",
    "interact(show_camera, camera=cameras);"
   ]
  },
  {
   "cell_type": "code",
   "execution_count": null,
   "metadata": {},
   "outputs": [],
   "source": []
  }
 ],
 "metadata": {
  "interpreter": {
   "hash": "bf7e2d39790dc1b5975eced567568a9722053e0b94b3b7ff844671af0d301066"
  },
  "kernelspec": {
   "display_name": "Python 3.9.12 ('dimo')",
   "language": "python",
   "name": "python3"
  },
  "language_info": {
   "codemirror_mode": {
    "name": "ipython",
    "version": 3
   },
   "file_extension": ".py",
   "mimetype": "text/x-python",
   "name": "python",
   "nbconvert_exporter": "python",
   "pygments_lexer": "ipython3",
   "version": "3.9.12"
  }
 },
 "nbformat": 4,
 "nbformat_minor": 4
}
